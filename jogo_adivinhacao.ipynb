{
  "nbformat": 4,
  "nbformat_minor": 0,
  "metadata": {
    "colab": {
      "provenance": [],
      "authorship_tag": "ABX9TyPsGosvF8gfsBVqiXDIOfYt",
      "include_colab_link": true
    },
    "kernelspec": {
      "name": "python3",
      "display_name": "Python 3"
    },
    "language_info": {
      "name": "python"
    }
  },
  "cells": [
    {
      "cell_type": "markdown",
      "metadata": {
        "id": "view-in-github",
        "colab_type": "text"
      },
      "source": [
        "<a href=\"https://colab.research.google.com/github/felipequinto/projetos_python/blob/main/jogo_adivinhacao.ipynb\" target=\"_parent\"><img src=\"https://colab.research.google.com/assets/colab-badge.svg\" alt=\"Open In Colab\"/></a>"
      ]
    },
    {
      "cell_type": "markdown",
      "source": [
        "#Programa para criar um jogo de adivinhação:"
      ],
      "metadata": {
        "id": "7M52I1qJ4uNi"
      }
    },
    {
      "cell_type": "code",
      "source": [
        "import random  # Importa o módulo random\n",
        "\n",
        "n = random.randrange(1,10)  # Gera um número inteiro aleatório entre 1 e 9 e armazena na variável \"n\"\n",
        "\n",
        "palpite = int(input('Digite qualquer número: '))  # Solicita ao usuário que digite um número e o converte para inteiro\n",
        "\n",
        "while n != palpite:  # Inicia um loop \"while\" que continua até que o valor armazenado na variável \"palpite\" seja igual ao valor gerado aleatoriamente e armazenado na variável \"n\"\n",
        "    if palpite < n:  # Verifica se o palpite é menor do que o número aleatório\n",
        "        print('Muito baixo ')  # Imprime a mensagem \"Muito baixo\"\n",
        "        palpite = int(input('Digite o número novamente: '))  # Solicita ao usuário que digite um novo palpite e o converte para inteiro\n",
        "    elif palpite > n:  # Verifica se o palpite é maior do que o número aleatório\n",
        "        print('Muito alto! ')  # Imprime a mensagem \"Muito alto!\"\n",
        "        palpite = int(input('Digite o número novamente '))  # Solicita ao usuário que digite um novo palpite e o converte para inteiro\n",
        "    else:  # Caso o palpite seja igual ao número aleatório, interrompe o loop\n",
        "        break\n",
        "\n",
        "print('Você adivinhou')  # Imprime a mensagem \"Você adivinhou\" após o loop ser interrompido\n"
      ],
      "metadata": {
        "id": "or4X2LlDp0Uf"
      },
      "execution_count": null,
      "outputs": []
    }
  ]
}